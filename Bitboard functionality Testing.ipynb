{
 "cells": [
  {
   "cell_type": "code",
   "execution_count": 34,
   "id": "7366bbb4",
   "metadata": {},
   "outputs": [
    {
     "name": "stdout",
     "output_type": "stream",
     "text": [
      "The autoreload extension is already loaded. To reload it, use:\n",
      "  %reload_ext autoreload\n"
     ]
    }
   ],
   "source": [
    "from board import Board\n",
    "import numpy as np\n",
    "\n",
    "%load_ext autoreload\n",
    "%autoreload 2"
   ]
  },
  {
   "cell_type": "code",
   "execution_count": 35,
   "id": "b30d30ba",
   "metadata": {},
   "outputs": [
    {
     "data": {
      "text/plain": [
       "<Color.WHITE: 0>"
      ]
     },
     "execution_count": 35,
     "metadata": {},
     "output_type": "execute_result"
    }
   ],
   "source": [
    "board = Board()\n",
    "board.color"
   ]
  },
  {
   "cell_type": "code",
   "execution_count": 36,
   "id": "ce01a2b4",
   "metadata": {},
   "outputs": [
    {
     "name": "stdout",
     "output_type": "stream",
     "text": [
      "\n",
      "8 ♖♘♗♕♔♗♘♖\n",
      "7 ♙♙♙♙♙♙♙♙\n",
      "6 · · · · · · · · \n",
      "5 · · · · · · · · \n",
      "4 · · · · · · · · \n",
      "3 · · · · · · · · \n",
      "2 ♟♟♟♟♟♟♟♟\n",
      "1 ♜♞♝♛♚♝♞♜\n",
      "  A B C D E F G H\n",
      "\n"
     ]
    }
   ],
   "source": [
    "print(board)"
   ]
  },
  {
   "cell_type": "code",
   "execution_count": 37,
   "id": "e9d51618",
   "metadata": {},
   "outputs": [
    {
     "name": "stdout",
     "output_type": "stream",
     "text": [
      "pawn push:  a2 a3\n",
      "pawn push:  a2 a4\n",
      "pawn push:  b2 b3\n",
      "pawn push:  b2 b4\n",
      "pawn push:  c2 c3\n",
      "pawn push:  c2 c4\n",
      "pawn push:  d2 d3\n",
      "pawn push:  d2 d4\n",
      "pawn push:  e2 e3\n",
      "pawn push:  e2 e4\n",
      "pawn push:  f2 f3\n",
      "pawn push:  f2 f4\n",
      "pawn push:  g2 g3\n",
      "pawn push:  g2 g4\n",
      "pawn push:  h2 h3\n",
      "pawn push:  h2 h4\n"
     ]
    }
   ],
   "source": [
    "from move import generate_pseudo_legal_moves\n",
    "moves = generate_pseudo_legal_moves(board)"
   ]
  },
  {
   "cell_type": "code",
   "execution_count": null,
   "id": "9d5a7bb7",
   "metadata": {},
   "outputs": [],
   "source": []
  },
  {
   "cell_type": "code",
   "execution_count": null,
   "id": "3ea0e370",
   "metadata": {},
   "outputs": [],
   "source": [
    "from constants import Piece"
   ]
  },
  {
   "cell_type": "code",
   "execution_count": null,
   "id": "0769c9d6",
   "metadata": {},
   "outputs": [],
   "source": [
    "from tables import *"
   ]
  },
  {
   "cell_type": "code",
   "execution_count": null,
   "id": "ec6c3d13",
   "metadata": {
    "scrolled": false
   },
   "outputs": [],
   "source": [
    "import numpy as np\n",
    "from bitboard_utils import print_bb, set_bit\n",
    "from constants import algebraic_square_map\n",
    "\n",
    "occ = np.ulonglong(0)\n",
    "occ = set_bit(occ, algebraic_square_map[\"d4\"])\n",
    "occ = set_bit(occ, algebraic_square_map[\"d6\"])\n",
    "occ = set_bit(occ, algebraic_square_map[\"e3\"])\n",
    "occ = set_bit(occ, algebraic_square_map[\"f7\"])\n",
    "occ = set_bit(occ, algebraic_square_map[\"b7\"])\n",
    "occ = set_bit(occ, algebraic_square_map[\"b3\"])\n",
    "occ = set_bit(occ, algebraic_square_map[\"g2\"])\n",
    "occ = set_bit(occ, algebraic_square_map[\"b5\"])\n",
    "occ = set_bit(occ, algebraic_square_map[\"c5\"])\n",
    "occ = set_bit(occ, algebraic_square_map[\"e5\"])\n",
    "\n",
    "print_bb(occ)\n",
    "print_bb(get_bishop_attacks(algebraic_square_map[\"d5\"], occ))\n",
    "print_bb(get_rook_attacks(algebraic_square_map[\"d5\"], occ))"
   ]
  },
  {
   "cell_type": "code",
   "execution_count": null,
   "id": "64b69e57",
   "metadata": {},
   "outputs": [],
   "source": [
    "from chess import *\n",
    "\n",
    "def print_bb(bb):\n",
    "    print(\"\\n\")\n",
    "    for rank in range(8):\n",
    "        r = \"\"\n",
    "        for file in range(8):\n",
    "            sq = rank * 8 + file\n",
    "            r += f\" {'1' if get_bit(bb, sq) else '·'} \"\n",
    "        print(8 - rank, r)\n",
    "    print(\"   A  B  C  D  E  F  G  H\")\n",
    "\n",
    "    print(\"Bitboard:\", bb)"
   ]
  },
  {
   "cell_type": "code",
   "execution_count": null,
   "id": "1e80396d",
   "metadata": {},
   "outputs": [],
   "source": [
    "board = np.ulonglong(456)\n",
    "print_bb(board)\n",
    "print(count_bits(board))\n",
    "print(get_lsb1_index(board))"
   ]
  },
  {
   "cell_type": "code",
   "execution_count": null,
   "id": "e8784306",
   "metadata": {},
   "outputs": [],
   "source": [
    "# sliders\n",
    "bishop_attacks = init_sliders(np.empty((64, 512), dtype=np.ulonglong), bish=True)\n",
    "rook_attacks = init_sliders(np.empty((64, 4096), dtype=np.ulonglong), bish=False)"
   ]
  },
  {
   "cell_type": "code",
   "execution_count": null,
   "id": "0bba433a",
   "metadata": {},
   "outputs": [],
   "source": [
    "occ = np.ulonglong(784**5)\n",
    "print_bb(occ)\n",
    "print_bb(get_bishop_attacks(62, occ))\n",
    "print_bb(get_rook_attacks(46, occ))"
   ]
  }
 ],
 "metadata": {
  "kernelspec": {
   "display_name": "Python 3 (ipykernel)",
   "language": "python",
   "name": "python3"
  },
  "language_info": {
   "codemirror_mode": {
    "name": "ipython",
    "version": 3
   },
   "file_extension": ".py",
   "mimetype": "text/x-python",
   "name": "python",
   "nbconvert_exporter": "python",
   "pygments_lexer": "ipython3",
   "version": "3.10.2"
  }
 },
 "nbformat": 4,
 "nbformat_minor": 5
}
