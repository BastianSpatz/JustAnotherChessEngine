{
 "cells": [
  {
   "cell_type": "code",
   "execution_count": 7,
   "id": "7366bbb4",
   "metadata": {},
   "outputs": [
    {
     "name": "stdout",
     "output_type": "stream",
     "text": [
      "The autoreload extension is already loaded. To reload it, use:\n",
      "  %reload_ext autoreload\n"
     ]
    }
   ],
   "source": [
    "from board import Board\n",
    "\n",
    "%load_ext autoreload\n",
    "%autoreload 2"
   ]
  },
  {
   "cell_type": "code",
   "execution_count": 23,
   "id": "b30d30ba",
   "metadata": {},
   "outputs": [],
   "source": [
    "board = Board()"
   ]
  },
  {
   "cell_type": "code",
   "execution_count": 24,
   "id": "ce01a2b4",
   "metadata": {},
   "outputs": [
    {
     "name": "stdout",
     "output_type": "stream",
     "text": [
      "\n",
      " ♖♘♗♕♔♗♘♖\n",
      " ♙♙♙♙♙♙♙♙\n",
      " · · · · · · · · \n",
      " · · · · · · · · \n",
      " · · · · · · · · \n",
      " · · · · · · · · \n",
      " ♟♟♟♟♟♟♟♟\n",
      " ♜♞♝♛♚♝♞♜\n",
      " A B C D E F G H\n",
      "\n"
     ]
    }
   ],
   "source": [
    "print(board)"
   ]
  },
  {
   "cell_type": "code",
   "execution_count": 1,
   "id": "0769c9d6",
   "metadata": {},
   "outputs": [
    {
     "name": "stderr",
     "output_type": "stream",
     "text": [
      "C:\\Users\\spatz\\Documents\\Python\\Jace 1.1\\tables.py:275: RuntimeWarning: overflow encountered in ulonglong_scalars\n",
      "  magic_index = (occupancy * bishop_magic_numbers[sq]) >> np.ulonglong(64 - bishop_relevant_bits[sq])\n",
      "C:\\Users\\spatz\\Documents\\Python\\Jace 1.1\\tables.py:280: RuntimeWarning: overflow encountered in ulonglong_scalars\n",
      "  magic_index = int((occupancy * rook_magic_numbers[sq]) >> np.ulonglong(64 - rook_relevant_bits[sq]))\n"
     ]
    }
   ],
   "source": [
    "from tables import *"
   ]
  },
  {
   "cell_type": "code",
   "execution_count": 2,
   "id": "ec6c3d13",
   "metadata": {
    "scrolled": false
   },
   "outputs": [
    {
     "name": "stdout",
     "output_type": "stream",
     "text": [
      "\n",
      "\n",
      "8  ·  ·  ·  ·  ·  ·  ·  · \n",
      "7  ·  1  ·  ·  ·  1  ·  · \n",
      "6  ·  ·  ·  1  ·  ·  ·  · \n",
      "5  ·  1  1  ·  1  ·  ·  · \n",
      "4  ·  ·  ·  1  ·  ·  ·  · \n",
      "3  ·  1  ·  ·  1  ·  ·  · \n",
      "2  ·  ·  ·  ·  ·  ·  1  · \n",
      "1  ·  ·  ·  ·  ·  ·  ·  · \n",
      "   A  B  C  D  E  F  G  H\n",
      "Bitboard: 18034224448152064\n",
      "\n",
      "\n",
      "8  ·  ·  ·  ·  ·  ·  ·  · \n",
      "7  ·  1  ·  ·  ·  1  ·  · \n",
      "6  ·  ·  1  ·  1  ·  ·  · \n",
      "5  ·  ·  ·  ·  ·  ·  ·  · \n",
      "4  ·  ·  1  ·  1  ·  ·  · \n",
      "3  ·  1  ·  ·  ·  1  ·  · \n",
      "2  ·  ·  ·  ·  ·  ·  1  · \n",
      "1  ·  ·  ·  ·  ·  ·  ·  · \n",
      "   A  B  C  D  E  F  G  H\n",
      "Bitboard: 18051867805491712\n",
      "\n",
      "\n",
      "8  ·  ·  ·  ·  ·  ·  ·  · \n",
      "7  ·  ·  ·  ·  ·  ·  ·  · \n",
      "6  ·  ·  ·  1  ·  ·  ·  · \n",
      "5  ·  ·  1  ·  1  ·  ·  · \n",
      "4  ·  ·  ·  1  ·  ·  ·  · \n",
      "3  ·  ·  ·  ·  ·  ·  ·  · \n",
      "2  ·  ·  ·  ·  ·  ·  ·  · \n",
      "1  ·  ·  ·  ·  ·  ·  ·  · \n",
      "   A  B  C  D  E  F  G  H\n",
      "Bitboard: 34695806976\n"
     ]
    },
    {
     "name": "stderr",
     "output_type": "stream",
     "text": [
      "C:\\Users\\spatz\\Documents\\Python\\Jace 1.1\\tables.py:299: RuntimeWarning: overflow encountered in ulonglong_scalars\n",
      "  occ *= bishop_magic_numbers[sq]\n",
      "C:\\Users\\spatz\\Documents\\Python\\Jace 1.1\\tables.py:305: RuntimeWarning: overflow encountered in ulonglong_scalars\n",
      "  occ *= rook_magic_numbers[sq]\n"
     ]
    }
   ],
   "source": [
    "import numpy as np\n",
    "from bitboard_utils import print_bb, set_bit\n",
    "from constants import algebraic_square_map\n",
    "\n",
    "occ = np.ulonglong(0)\n",
    "occ = set_bit(occ, algebraic_square_map[\"d4\"])\n",
    "occ = set_bit(occ, algebraic_square_map[\"d6\"])\n",
    "occ = set_bit(occ, algebraic_square_map[\"e3\"])\n",
    "occ = set_bit(occ, algebraic_square_map[\"f7\"])\n",
    "occ = set_bit(occ, algebraic_square_map[\"b7\"])\n",
    "occ = set_bit(occ, algebraic_square_map[\"b3\"])\n",
    "occ = set_bit(occ, algebraic_square_map[\"g2\"])\n",
    "occ = set_bit(occ, algebraic_square_map[\"b5\"])\n",
    "occ = set_bit(occ, algebraic_square_map[\"c5\"])\n",
    "occ = set_bit(occ, algebraic_square_map[\"e5\"])\n",
    "\n",
    "print_bb(occ)\n",
    "print_bb(get_bishop_attacks(algebraic_square_map[\"d5\"], occ))\n",
    "print_bb(get_rook_attacks(algebraic_square_map[\"d5\"], occ))"
   ]
  },
  {
   "cell_type": "code",
   "execution_count": 3,
   "id": "64b69e57",
   "metadata": {},
   "outputs": [
    {
     "ename": "ModuleNotFoundError",
     "evalue": "No module named 'chess'",
     "output_type": "error",
     "traceback": [
      "\u001b[1;31m---------------------------------------------------------------------------\u001b[0m",
      "\u001b[1;31mModuleNotFoundError\u001b[0m                       Traceback (most recent call last)",
      "\u001b[1;32m~\\AppData\\Local\\Temp/ipykernel_17304/3458201037.py\u001b[0m in \u001b[0;36m<module>\u001b[1;34m\u001b[0m\n\u001b[1;32m----> 1\u001b[1;33m \u001b[1;32mfrom\u001b[0m \u001b[0mchess\u001b[0m \u001b[1;32mimport\u001b[0m \u001b[1;33m*\u001b[0m\u001b[1;33m\u001b[0m\u001b[1;33m\u001b[0m\u001b[0m\n\u001b[0m\u001b[0;32m      2\u001b[0m \u001b[1;33m\u001b[0m\u001b[0m\n\u001b[0;32m      3\u001b[0m \u001b[1;32mdef\u001b[0m \u001b[0mprint_bb\u001b[0m\u001b[1;33m(\u001b[0m\u001b[0mbb\u001b[0m\u001b[1;33m)\u001b[0m\u001b[1;33m:\u001b[0m\u001b[1;33m\u001b[0m\u001b[1;33m\u001b[0m\u001b[0m\n\u001b[0;32m      4\u001b[0m     \u001b[0mprint\u001b[0m\u001b[1;33m(\u001b[0m\u001b[1;34m\"\\n\"\u001b[0m\u001b[1;33m)\u001b[0m\u001b[1;33m\u001b[0m\u001b[1;33m\u001b[0m\u001b[0m\n\u001b[0;32m      5\u001b[0m     \u001b[1;32mfor\u001b[0m \u001b[0mrank\u001b[0m \u001b[1;32min\u001b[0m \u001b[0mrange\u001b[0m\u001b[1;33m(\u001b[0m\u001b[1;36m8\u001b[0m\u001b[1;33m)\u001b[0m\u001b[1;33m:\u001b[0m\u001b[1;33m\u001b[0m\u001b[1;33m\u001b[0m\u001b[0m\n",
      "\u001b[1;31mModuleNotFoundError\u001b[0m: No module named 'chess'"
     ]
    }
   ],
   "source": [
    "from chess import *\n",
    "\n",
    "def print_bb(bb):\n",
    "    print(\"\\n\")\n",
    "    for rank in range(8):\n",
    "        r = \"\"\n",
    "        for file in range(8):\n",
    "            sq = rank * 8 + file\n",
    "            r += f\" {'1' if get_bit(bb, sq) else '·'} \"\n",
    "        print(8 - rank, r)\n",
    "    print(\"   A  B  C  D  E  F  G  H\")\n",
    "\n",
    "    print(\"Bitboard:\", bb)"
   ]
  },
  {
   "cell_type": "code",
   "execution_count": null,
   "id": "1e80396d",
   "metadata": {},
   "outputs": [],
   "source": [
    "board = np.ulonglong(456)\n",
    "print_bb(board)\n",
    "print(count_bits(board))\n",
    "print(get_lsb1_index(board))"
   ]
  },
  {
   "cell_type": "code",
   "execution_count": null,
   "id": "e8784306",
   "metadata": {},
   "outputs": [],
   "source": [
    "# sliders\n",
    "bishop_attacks = init_sliders(np.empty((64, 512), dtype=np.ulonglong), bish=True)\n",
    "rook_attacks = init_sliders(np.empty((64, 4096), dtype=np.ulonglong), bish=False)"
   ]
  },
  {
   "cell_type": "code",
   "execution_count": null,
   "id": "92d43a72",
   "metadata": {},
   "outputs": [],
   "source": [
    "def get_bishop_attacks(sq, occ):\n",
    "    if sq == 63:\n",
    "        return bishop_attacks_on_the_fly(sq, occ)\n",
    "    occ &= bishop_masks[sq]\n",
    "    print(occ)\n",
    "    print(bishop_magic_numbers[sq])\n",
    "    occ *= bishop_magic_numbers[sq]\n",
    "    occ >>= np.ulonglong(64 - bishop_relevant_bits[sq])\n",
    "    return bishop_attacks[sq][occ]\n",
    "\n",
    "def get_rook_attacks(sq, occ):\n",
    "    occ &= rook_masks[sq]\n",
    "    occ *= rook_magic_numbers[sq]\n",
    "    occ >>= np.ulonglong(64 - rook_relevant_bits[sq])\n",
    "    return rook_attacks[sq][occ]"
   ]
  },
  {
   "cell_type": "code",
   "execution_count": null,
   "id": "0bba433a",
   "metadata": {},
   "outputs": [],
   "source": [
    "occ = np.ulonglong(784**5)\n",
    "print_bb(occ)\n",
    "print_bb(get_bishop_attacks(62, occ))\n",
    "print_bb(get_rook_attacks(46, occ))"
   ]
  }
 ],
 "metadata": {
  "kernelspec": {
   "display_name": "Python 3 (ipykernel)",
   "language": "python",
   "name": "python3"
  },
  "language_info": {
   "codemirror_mode": {
    "name": "ipython",
    "version": 3
   },
   "file_extension": ".py",
   "mimetype": "text/x-python",
   "name": "python",
   "nbconvert_exporter": "python",
   "pygments_lexer": "ipython3",
   "version": "3.10.0"
  }
 },
 "nbformat": 4,
 "nbformat_minor": 5
}
