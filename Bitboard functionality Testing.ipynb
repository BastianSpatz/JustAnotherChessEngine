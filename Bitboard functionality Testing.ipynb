{
 "cells": [
  {
   "cell_type": "code",
   "execution_count": 1,
   "id": "7366bbb4",
   "metadata": {},
   "outputs": [
    {
     "name": "stderr",
     "output_type": "stream",
     "text": [
      "C:\\Users\\Bastian\\Documents\\Python\\JustAnotherChessEngine\\tables.py:275: RuntimeWarning: overflow encountered in ulonglong_scalars\n",
      "  magic_index = (occupancy * bishop_magic_numbers[sq]) >> np.ulonglong(64 - bishop_relevant_bits[sq])\n",
      "C:\\Users\\Bastian\\Documents\\Python\\JustAnotherChessEngine\\tables.py:280: RuntimeWarning: overflow encountered in ulonglong_scalars\n",
      "  magic_index = int((occupancy * rook_magic_numbers[sq]) >> np.ulonglong(64 - rook_relevant_bits[sq]))\n"
     ]
    }
   ],
   "source": [
    "from board import Board\n",
    "from board_state import BoardState\n",
    "from bitboard_utils import *\n",
    "from constants import *\n",
    "from tables import *\n",
    "import numpy as np\n",
    "\n",
    "%load_ext autoreload\n",
    "%autoreload 2"
   ]
  },
  {
   "cell_type": "code",
   "execution_count": 10,
   "id": "bccdb794",
   "metadata": {
    "scrolled": true
   },
   "outputs": [
    {
     "data": {
      "text/plain": [
       "9463"
      ]
     },
     "execution_count": 10,
     "metadata": {},
     "output_type": "execute_result"
    }
   ],
   "source": [
    "from generate_moves import generate_pseudo_legal_moves, make_move\n",
    "from perft_test import perft_main\n",
    "board = Board()\n",
    "perft_position = \"r3k2r/Pppp1ppp/1b3nbN/nP6/BBP1P3/q4N2/Pp1P2PP/R2Q1RK1 w kq - 0 1\"\n",
    "board.set_fen(perft_position)\n",
    "# board_state = BoardState()\n",
    "# board_state.read_board(board)\n",
    "# moves = generate_pseudo_legal_moves(board)\n",
    "# for move in moves:\n",
    "#     print(board)\n",
    "#     board_state_move = make_move(board_state, move)\n",
    "#     new_moves = generate_pseudo_legal_moves(board_state_move)\n",
    "#     print(move)\n",
    "perft_main(board, 3)"
   ]
  },
  {
   "cell_type": "code",
   "execution_count": null,
   "id": "df21bf5f",
   "metadata": {},
   "outputs": [],
   "source": [
    "tricky_position = \"r3k2r/p1ppqpb1/bn2pnp1/3PN3/1p2P3/2N2Q1p/PPPBBPPP/R3K2R w KQkq - 0 1\" \n",
    "killer_position = \"rnbqkb1r/pp1p1pPp/8/2p1pP2/1P1P4/3P3P/P1P1P3/RNBQKBNR w KQkq e6 0 1\"\n",
    "cmk_position =  \"r2q1rk1/ppp2ppp/2n1bn2/2b1p3/3pP3/3P1NPP/PPP1NPB1/R1BQ1RK1 b - - 0 9 \"\n",
    "en_passant_position = \"2r3k1/1q1nbppp/r3p3/3pP3/pPpP4/P1Q2N2/2RN1PPP/2R4K b - b3 0 23\"\n",
    "board.set_fen(tricky_position)"
   ]
  },
  {
   "cell_type": "code",
   "execution_count": null,
   "id": "d54d0651",
   "metadata": {},
   "outputs": [],
   "source": [
    "print(board)\n",
    "board.color"
   ]
  },
  {
   "cell_type": "code",
   "execution_count": null,
   "id": "ed2ab2b7",
   "metadata": {},
   "outputs": [],
   "source": [
    "moves = generate_pseudo_legal_moves(board)"
   ]
  }
 ],
 "metadata": {
  "kernelspec": {
   "display_name": "Python 3 (ipykernel)",
   "language": "python",
   "name": "python3"
  },
  "language_info": {
   "codemirror_mode": {
    "name": "ipython",
    "version": 3
   },
   "file_extension": ".py",
   "mimetype": "text/x-python",
   "name": "python",
   "nbconvert_exporter": "python",
   "pygments_lexer": "ipython3",
   "version": "3.10.2"
  }
 },
 "nbformat": 4,
 "nbformat_minor": 5
}
