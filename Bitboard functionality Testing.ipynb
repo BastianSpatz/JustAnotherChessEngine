{
 "cells": [
  {
   "cell_type": "code",
   "execution_count": 1,
   "id": "7366bbb4",
   "metadata": {},
   "outputs": [
    {
     "name": "stderr",
     "output_type": "stream",
     "text": [
      "C:\\Users\\Bastian\\Documents\\Python\\JustAnotherChessEngine\\tables.py:275: RuntimeWarning: overflow encountered in ulonglong_scalars\n",
      "  magic_index = (occupancy * bishop_magic_numbers[sq]) >> np.ulonglong(64 - bishop_relevant_bits[sq])\n",
      "C:\\Users\\Bastian\\Documents\\Python\\JustAnotherChessEngine\\tables.py:280: RuntimeWarning: overflow encountered in ulonglong_scalars\n",
      "  magic_index = int((occupancy * rook_magic_numbers[sq]) >> np.ulonglong(64 - rook_relevant_bits[sq]))\n"
     ]
    }
   ],
   "source": [
    "# from board import Board\n",
    "from board_state import BoardState\n",
    "from bitboard_utils import *\n",
    "from constants import *\n",
    "import chess\n",
    "from generate_moves import generate_pseudo_legal_moves, make_move, print_move_list\n",
    "from perft_test import perft_main, debug_perft, generate_legal_moves\n",
    "from move import encode_move, get_move_uci, print_move\n",
    "# from tables import *\n",
    "import numpy as np\n",
    "\n",
    "%load_ext autoreload\n",
    "%autoreload 2"
   ]
  },
  {
   "cell_type": "code",
   "execution_count": 8,
   "id": "2ffbc8a6",
   "metadata": {},
   "outputs": [],
   "source": [
    "fen_list = [#\"r3k2r/p1ppqpb1/bn2pnp1/3PN3/1p2P3/2N2Q1p/PPPBBPPP/R3K2R w KQkq - \",\n",
    "            \"8/2p5/3p4/KP5r/1R3p1k/8/4P1P1/8 w - - \",\n",
    "            \"r3k2r/Pppp1ppp/1b3nbN/nP6/BBP1P3/q4N2/Pp1P2PP/R2Q1RK1 w kq - 0 1\",\n",
    "            \"r2q1rk1/pP1p2pp/Q4n2/bbp1p3/Np6/1B3NBn/pPPP1PPP/R3K2R b KQ - 0 1 \",\n",
    "            \"rnbq1k1r/pp1Pbppp/2p5/8/2B5/8/PPP1NnPP/RNBQK2R w KQ - 1 8  \"]\n",
    "            #\"r4rk1/1pp1qppp/p1np1n2/2b1p1B1/2B1P1b1/P1NP1N2/1PP1QPPP/R4RK1 w - - 0 10 \"]\n",
    "            \n",
    "            "
   ]
  },
  {
   "cell_type": "code",
   "execution_count": null,
   "id": "bccdb794",
   "metadata": {
    "scrolled": true
   },
   "outputs": [
    {
     "name": "stdout",
     "output_type": "stream",
     "text": [
      "\n",
      "8 · · · · · · · · \n",
      "7 · · ♙· · · · · \n",
      "6 · · · ♙· · · · \n",
      "5 ♚♟· · · · · ♖\n",
      "4 · ♜· · · ♙· ♔\n",
      "3 · · · · · · · · \n",
      "2 · · · · ♟· ♟· \n",
      "1 · · · · · · · · \n",
      "  A B C D E F G H\n",
      "Side:     \n",
      "0\n",
      "Enpassant:   \n",
      "no \n",
      "Castling:    \n",
      " \n",
      "14\n",
      "191\n",
      "2812\n",
      "43238\n",
      "\n",
      "8 ♖· · · ♔· · ♖\n",
      "7 ♟♙♙♙· ♙♙♙\n",
      "6 · ♗· · · ♘♗♞\n",
      "5 ♘♟· · · · · · \n",
      "4 ♝♝♟· ♟· · · \n",
      "3 ♕· · · · ♞· · \n",
      "2 ♟♙· ♟· · ♟♟\n",
      "1 ♜· · ♛· ♜♚· \n",
      "  A B C D E F G H\n",
      "Side:     \n",
      "0\n",
      "Enpassant:   \n",
      "no \n",
      "Castling:    \n",
      "kq \n",
      "6\n",
      "264\n",
      "9467\n",
      "422333\n",
      "\n",
      "8 ♖· · ♕· ♖♔· \n",
      "7 ♙♟· ♙· · ♙♙\n",
      "6 ♛· · · · ♘· · \n",
      "5 ♗♗♙· ♙· · · \n",
      "4 ♞♙· · · · · · \n",
      "3 · ♝· · · ♞♝♘\n",
      "2 ♙♟♟♟· ♟♟♟\n",
      "1 ♜· · · ♚· · ♜\n",
      "  A B C D E F G H\n",
      "Side:     \n",
      "1\n",
      "Enpassant:   \n",
      "no \n",
      "Castling:    \n",
      "KQ \n",
      "6\n",
      "264\n",
      "9467\n"
     ]
    }
   ],
   "source": [
    "for fen in fen_list:\n",
    "    python_board = chess.Board(fen)\n",
    "    my_board = BoardState()\n",
    "    my_board.set_fen(fen)\n",
    "    print(my_board)\n",
    "    for depth in range(1, 5):\n",
    "        print(debug_perft(my_board, depth, python_board, False))"
   ]
  },
  {
   "cell_type": "code",
   "execution_count": null,
   "id": "3f3a0331",
   "metadata": {},
   "outputs": [],
   "source": [
    "my_board = BoardState()\n",
    "my_board.set_fen(\"1r2k2r/Pppp1ppp/1b3nbN/nPP5/BB2P3/q4N2/Pp1P2PP/R2Q1RK1 w k - 1 2\")\n",
    "print(my_board)"
   ]
  },
  {
   "cell_type": "code",
   "execution_count": null,
   "id": "c3281e43",
   "metadata": {},
   "outputs": [],
   "source": [
    "moves = generate_legal_moves(my_board)\n",
    "print_move_list(moves)"
   ]
  },
  {
   "cell_type": "code",
   "execution_count": null,
   "id": "94c25fc9",
   "metadata": {},
   "outputs": [],
   "source": [
    "print(get_move_uci(moves[0]))"
   ]
  }
 ],
 "metadata": {
  "interpreter": {
   "hash": "7ba41da815aa047041a42bb235514dd275a168b3f2f58893abf50244d8fb0ae4"
  },
  "kernelspec": {
   "display_name": "Python 3 (ipykernel)",
   "language": "python",
   "name": "python3"
  },
  "language_info": {
   "codemirror_mode": {
    "name": "ipython",
    "version": 3
   },
   "file_extension": ".py",
   "mimetype": "text/x-python",
   "name": "python",
   "nbconvert_exporter": "python",
   "pygments_lexer": "ipython3",
   "version": "3.10.2"
  }
 },
 "nbformat": 4,
 "nbformat_minor": 5
}
